{
 "cells": [
  {
   "cell_type": "markdown",
   "id": "17eb250f",
   "metadata": {},
   "source": [
    "### Name: Chinedu Onyeka\n",
    "### DATA 622-MachineLearning Homework2 - DecisionTrees and RandomForests\n",
    "#### Date: April 29th, 2023"
   ]
  },
  {
   "cell_type": "code",
   "execution_count": 1,
   "id": "5e4365b9",
   "metadata": {},
   "outputs": [],
   "source": [
    "# imports\n",
    "import pandas as pd\n",
    "import numpy as np\n",
    "\n",
    "import seaborn as sns\n",
    "import matplotlib.pyplot as plt\n",
    "%matplotlib inline\n",
    "\n",
    "from sklearn.model_selection import train_test_split\n",
    "\n",
    "from sklearn.tree import DecisionTreeClassifier\n",
    "from sklearn.ensemble import RandomForestClassifier\n",
    "from sklearn.svm import SVC # for support vector machines model\n",
    "from sklearn.preprocessing import StandardScaler\n",
    "\n",
    "from sklearn.metrics import confusion_matrix\n",
    "from sklearn.metrics import accuracy_score, precision_score, recall_score, f1_score, roc_auc_score"
   ]
  },
  {
   "cell_type": "code",
   "execution_count": 2,
   "id": "85d9644f",
   "metadata": {},
   "outputs": [],
   "source": [
    "# read the data into memory\n",
    "url = \"https://raw.githubusercontent.com/chinedu2301/data622-machine-learning-and-big-data/main/data/loan_data.csv\"\n",
    "loan_raw_df = pd.read_csv(url)"
   ]
  },
  {
   "cell_type": "code",
   "execution_count": 3,
   "id": "90744597",
   "metadata": {},
   "outputs": [
    {
     "data": {
      "text/html": [
       "<div>\n",
       "<style scoped>\n",
       "    .dataframe tbody tr th:only-of-type {\n",
       "        vertical-align: middle;\n",
       "    }\n",
       "\n",
       "    .dataframe tbody tr th {\n",
       "        vertical-align: top;\n",
       "    }\n",
       "\n",
       "    .dataframe thead th {\n",
       "        text-align: right;\n",
       "    }\n",
       "</style>\n",
       "<table border=\"1\" class=\"dataframe\">\n",
       "  <thead>\n",
       "    <tr style=\"text-align: right;\">\n",
       "      <th></th>\n",
       "      <th>Unnamed: 0</th>\n",
       "      <th>Loan_ID</th>\n",
       "      <th>Gender</th>\n",
       "      <th>Married</th>\n",
       "      <th>Dependents</th>\n",
       "      <th>Education</th>\n",
       "      <th>Self_Employed</th>\n",
       "      <th>ApplicantIncome</th>\n",
       "      <th>CoapplicantIncome</th>\n",
       "      <th>LoanAmount</th>\n",
       "      <th>Loan_Amount_Term</th>\n",
       "      <th>Credit_History</th>\n",
       "      <th>Property_Area</th>\n",
       "      <th>Loan_Status</th>\n",
       "      <th>Total_Income</th>\n",
       "    </tr>\n",
       "  </thead>\n",
       "  <tbody>\n",
       "    <tr>\n",
       "      <th>0</th>\n",
       "      <td>0</td>\n",
       "      <td>LP001002</td>\n",
       "      <td>Male</td>\n",
       "      <td>No</td>\n",
       "      <td>0</td>\n",
       "      <td>Graduate</td>\n",
       "      <td>No</td>\n",
       "      <td>5849</td>\n",
       "      <td>0.0</td>\n",
       "      <td>NaN</td>\n",
       "      <td>360.0</td>\n",
       "      <td>1.0</td>\n",
       "      <td>Urban</td>\n",
       "      <td>Y</td>\n",
       "      <td>$5849.0</td>\n",
       "    </tr>\n",
       "    <tr>\n",
       "      <th>1</th>\n",
       "      <td>1</td>\n",
       "      <td>LP001003</td>\n",
       "      <td>Male</td>\n",
       "      <td>Yes</td>\n",
       "      <td>1</td>\n",
       "      <td>Graduate</td>\n",
       "      <td>No</td>\n",
       "      <td>4583</td>\n",
       "      <td>1508.0</td>\n",
       "      <td>128.0</td>\n",
       "      <td>360.0</td>\n",
       "      <td>1.0</td>\n",
       "      <td>Rural</td>\n",
       "      <td>N</td>\n",
       "      <td>$6091.0</td>\n",
       "    </tr>\n",
       "    <tr>\n",
       "      <th>2</th>\n",
       "      <td>2</td>\n",
       "      <td>LP001005</td>\n",
       "      <td>Male</td>\n",
       "      <td>Yes</td>\n",
       "      <td>0</td>\n",
       "      <td>Graduate</td>\n",
       "      <td>Yes</td>\n",
       "      <td>3000</td>\n",
       "      <td>0.0</td>\n",
       "      <td>66.0</td>\n",
       "      <td>360.0</td>\n",
       "      <td>1.0</td>\n",
       "      <td>Urban</td>\n",
       "      <td>Y</td>\n",
       "      <td>$3000.0</td>\n",
       "    </tr>\n",
       "    <tr>\n",
       "      <th>3</th>\n",
       "      <td>3</td>\n",
       "      <td>LP001006</td>\n",
       "      <td>Male</td>\n",
       "      <td>Yes</td>\n",
       "      <td>0</td>\n",
       "      <td>Not Graduate</td>\n",
       "      <td>No</td>\n",
       "      <td>2583</td>\n",
       "      <td>2358.0</td>\n",
       "      <td>120.0</td>\n",
       "      <td>360.0</td>\n",
       "      <td>1.0</td>\n",
       "      <td>Urban</td>\n",
       "      <td>Y</td>\n",
       "      <td>$4941.0</td>\n",
       "    </tr>\n",
       "    <tr>\n",
       "      <th>4</th>\n",
       "      <td>4</td>\n",
       "      <td>LP001008</td>\n",
       "      <td>Male</td>\n",
       "      <td>No</td>\n",
       "      <td>0</td>\n",
       "      <td>Graduate</td>\n",
       "      <td>No</td>\n",
       "      <td>6000</td>\n",
       "      <td>0.0</td>\n",
       "      <td>141.0</td>\n",
       "      <td>360.0</td>\n",
       "      <td>1.0</td>\n",
       "      <td>Urban</td>\n",
       "      <td>Y</td>\n",
       "      <td>$6000.0</td>\n",
       "    </tr>\n",
       "    <tr>\n",
       "      <th>5</th>\n",
       "      <td>5</td>\n",
       "      <td>LP001011</td>\n",
       "      <td>Male</td>\n",
       "      <td>Yes</td>\n",
       "      <td>2</td>\n",
       "      <td>Graduate</td>\n",
       "      <td>Yes</td>\n",
       "      <td>5417</td>\n",
       "      <td>4196.0</td>\n",
       "      <td>267.0</td>\n",
       "      <td>360.0</td>\n",
       "      <td>1.0</td>\n",
       "      <td>Urban</td>\n",
       "      <td>Y</td>\n",
       "      <td>$9613.0</td>\n",
       "    </tr>\n",
       "    <tr>\n",
       "      <th>6</th>\n",
       "      <td>6</td>\n",
       "      <td>LP001013</td>\n",
       "      <td>Male</td>\n",
       "      <td>Yes</td>\n",
       "      <td>0</td>\n",
       "      <td>Not Graduate</td>\n",
       "      <td>No</td>\n",
       "      <td>2333</td>\n",
       "      <td>1516.0</td>\n",
       "      <td>95.0</td>\n",
       "      <td>360.0</td>\n",
       "      <td>1.0</td>\n",
       "      <td>Urban</td>\n",
       "      <td>Y</td>\n",
       "      <td>$3849.0</td>\n",
       "    </tr>\n",
       "    <tr>\n",
       "      <th>7</th>\n",
       "      <td>7</td>\n",
       "      <td>LP001014</td>\n",
       "      <td>Male</td>\n",
       "      <td>Yes</td>\n",
       "      <td>3+</td>\n",
       "      <td>Graduate</td>\n",
       "      <td>No</td>\n",
       "      <td>3036</td>\n",
       "      <td>2504.0</td>\n",
       "      <td>158.0</td>\n",
       "      <td>360.0</td>\n",
       "      <td>0.0</td>\n",
       "      <td>Semiurban</td>\n",
       "      <td>N</td>\n",
       "      <td>$5540.0</td>\n",
       "    </tr>\n",
       "    <tr>\n",
       "      <th>8</th>\n",
       "      <td>8</td>\n",
       "      <td>LP001018</td>\n",
       "      <td>Male</td>\n",
       "      <td>Yes</td>\n",
       "      <td>2</td>\n",
       "      <td>Graduate</td>\n",
       "      <td>No</td>\n",
       "      <td>4006</td>\n",
       "      <td>1526.0</td>\n",
       "      <td>168.0</td>\n",
       "      <td>360.0</td>\n",
       "      <td>1.0</td>\n",
       "      <td>Urban</td>\n",
       "      <td>Y</td>\n",
       "      <td>$5532.0</td>\n",
       "    </tr>\n",
       "    <tr>\n",
       "      <th>9</th>\n",
       "      <td>9</td>\n",
       "      <td>LP001020</td>\n",
       "      <td>Male</td>\n",
       "      <td>Yes</td>\n",
       "      <td>1</td>\n",
       "      <td>Graduate</td>\n",
       "      <td>No</td>\n",
       "      <td>12841</td>\n",
       "      <td>10968.0</td>\n",
       "      <td>349.0</td>\n",
       "      <td>360.0</td>\n",
       "      <td>1.0</td>\n",
       "      <td>Semiurban</td>\n",
       "      <td>N</td>\n",
       "      <td>$23809.0</td>\n",
       "    </tr>\n",
       "  </tbody>\n",
       "</table>\n",
       "</div>"
      ],
      "text/plain": [
       "   Unnamed: 0   Loan_ID Gender Married Dependents     Education Self_Employed  \\\n",
       "0           0  LP001002   Male      No          0      Graduate            No   \n",
       "1           1  LP001003   Male     Yes          1      Graduate            No   \n",
       "2           2  LP001005   Male     Yes          0      Graduate           Yes   \n",
       "3           3  LP001006   Male     Yes          0  Not Graduate            No   \n",
       "4           4  LP001008   Male      No          0      Graduate            No   \n",
       "5           5  LP001011   Male     Yes          2      Graduate           Yes   \n",
       "6           6  LP001013   Male     Yes          0  Not Graduate            No   \n",
       "7           7  LP001014   Male     Yes         3+      Graduate            No   \n",
       "8           8  LP001018   Male     Yes          2      Graduate            No   \n",
       "9           9  LP001020   Male     Yes          1      Graduate            No   \n",
       "\n",
       "   ApplicantIncome  CoapplicantIncome  LoanAmount  Loan_Amount_Term  \\\n",
       "0             5849                0.0         NaN             360.0   \n",
       "1             4583             1508.0       128.0             360.0   \n",
       "2             3000                0.0        66.0             360.0   \n",
       "3             2583             2358.0       120.0             360.0   \n",
       "4             6000                0.0       141.0             360.0   \n",
       "5             5417             4196.0       267.0             360.0   \n",
       "6             2333             1516.0        95.0             360.0   \n",
       "7             3036             2504.0       158.0             360.0   \n",
       "8             4006             1526.0       168.0             360.0   \n",
       "9            12841            10968.0       349.0             360.0   \n",
       "\n",
       "   Credit_History Property_Area Loan_Status Total_Income  \n",
       "0             1.0         Urban           Y      $5849.0  \n",
       "1             1.0         Rural           N      $6091.0  \n",
       "2             1.0         Urban           Y      $3000.0  \n",
       "3             1.0         Urban           Y      $4941.0  \n",
       "4             1.0         Urban           Y      $6000.0  \n",
       "5             1.0         Urban           Y      $9613.0  \n",
       "6             1.0         Urban           Y      $3849.0  \n",
       "7             0.0     Semiurban           N      $5540.0  \n",
       "8             1.0         Urban           Y      $5532.0  \n",
       "9             1.0     Semiurban           N     $23809.0  "
      ]
     },
     "execution_count": 3,
     "metadata": {},
     "output_type": "execute_result"
    }
   ],
   "source": [
    "# view the head\n",
    "loan_raw_df.head(10)"
   ]
  },
  {
   "cell_type": "markdown",
   "id": "2eea25ee",
   "metadata": {},
   "source": [
    "### Data Cleaning"
   ]
  },
  {
   "cell_type": "code",
   "execution_count": 4,
   "id": "cedfadb0",
   "metadata": {},
   "outputs": [
    {
     "name": "stderr",
     "output_type": "stream",
     "text": [
      "<ipython-input-4-e8ea485aa07b>:5: FutureWarning: The default value of regex will change from True to False in a future version. In addition, single character regular expressions will *not* be treated as literal strings when regex=True.\n",
      "  loan_raw_df[\"Dependents\"] = loan_raw_df[\"Dependents\"].str.replace(\"+\", \"\").apply(pd.to_numeric)\n",
      "<ipython-input-4-e8ea485aa07b>:8: FutureWarning: The default value of regex will change from True to False in a future version. In addition, single character regular expressions will *not* be treated as literal strings when regex=True.\n",
      "  loan_raw_df[\"Total_Income\"] = loan_raw_df[\"Total_Income\"].str.replace(\"$\", \"\").apply(pd.to_numeric)\n"
     ]
    }
   ],
   "source": [
    "# drop the first two columns as those are not needed for the analysis\n",
    "loan_raw_df = loan_raw_df.drop([\"Unnamed: 0\", \"Loan_ID\"], axis = 1)\n",
    "\n",
    "# remove the \"+\" sign from the Dependents column and convert it to numeric\n",
    "loan_raw_df[\"Dependents\"] = loan_raw_df[\"Dependents\"].str.replace(\"+\", \"\").apply(pd.to_numeric)\n",
    "\n",
    "# remove the \"$\" sign from the Total_Income column and convert it to numeric\n",
    "loan_raw_df[\"Total_Income\"] = loan_raw_df[\"Total_Income\"].str.replace(\"$\", \"\").apply(pd.to_numeric)"
   ]
  },
  {
   "cell_type": "code",
   "execution_count": 5,
   "id": "0c1ca683",
   "metadata": {},
   "outputs": [
    {
     "name": "stdout",
     "output_type": "stream",
     "text": [
      "<class 'pandas.core.frame.DataFrame'>\n",
      "RangeIndex: 500 entries, 0 to 499\n",
      "Data columns (total 13 columns):\n",
      " #   Column             Non-Null Count  Dtype  \n",
      "---  ------             --------------  -----  \n",
      " 0   Gender             491 non-null    object \n",
      " 1   Married            497 non-null    object \n",
      " 2   Dependents         488 non-null    float64\n",
      " 3   Education          500 non-null    object \n",
      " 4   Self_Employed      473 non-null    object \n",
      " 5   ApplicantIncome    500 non-null    int64  \n",
      " 6   CoapplicantIncome  500 non-null    float64\n",
      " 7   LoanAmount         482 non-null    float64\n",
      " 8   Loan_Amount_Term   486 non-null    float64\n",
      " 9   Credit_History     459 non-null    float64\n",
      " 10  Property_Area      500 non-null    object \n",
      " 11  Loan_Status        500 non-null    object \n",
      " 12  Total_Income       500 non-null    float64\n",
      "dtypes: float64(6), int64(1), object(6)\n",
      "memory usage: 50.9+ KB\n"
     ]
    }
   ],
   "source": [
    "loan_raw_df.info()"
   ]
  },
  {
   "cell_type": "markdown",
   "id": "43b60766",
   "metadata": {},
   "source": [
    "##### Check for Nulls and handle the nulls"
   ]
  },
  {
   "cell_type": "code",
   "execution_count": 6,
   "id": "9b9ed7f5",
   "metadata": {},
   "outputs": [
    {
     "data": {
      "text/plain": [
       "Gender                9\n",
       "Married               3\n",
       "Dependents           12\n",
       "Education             0\n",
       "Self_Employed        27\n",
       "ApplicantIncome       0\n",
       "CoapplicantIncome     0\n",
       "LoanAmount           18\n",
       "Loan_Amount_Term     14\n",
       "Credit_History       41\n",
       "Property_Area         0\n",
       "Loan_Status           0\n",
       "Total_Income          0\n",
       "dtype: int64"
      ]
     },
     "execution_count": 6,
     "metadata": {},
     "output_type": "execute_result"
    }
   ],
   "source": [
    "# count the sum of nulls in each column\n",
    "loan_raw_df.isnull().sum()"
   ]
  },
  {
   "cell_type": "code",
   "execution_count": 7,
   "id": "e846cb3c",
   "metadata": {},
   "outputs": [
    {
     "data": {
      "text/plain": [
       "<AxesSubplot:>"
      ]
     },
     "execution_count": 7,
     "metadata": {},
     "output_type": "execute_result"
    },
    {
     "data": {
      "image/png": "[encoded data removed]",
      "text/plain": [
       "<Figure size 1440x576 with 2 Axes>"
      ]
     },
     "metadata": {
      "needs_background": "light"
     },
     "output_type": "display_data"
    }
   ],
   "source": [
    "# visualize the nulls\n",
    "plt.figure(figsize = (20,8))\n",
    "sns.heatmap(loan_raw_df.isnull(), yticklabels=False, cbar=True, cmap=\"mako\")"
   ]
  },
  {
   "cell_type": "markdown",
   "id": "21a94e91",
   "metadata": {},
   "source": [
    "There are nulls in numeric and categorical columns. I will fill the nulls in the numeric columns with the mean of the column and the categorical column with the mode."
   ]
  },
  {
   "cell_type": "code",
   "execution_count": 8,
   "id": "a331eb2a",
   "metadata": {},
   "outputs": [],
   "source": [
    "# get the list of numeric columns\n",
    "numeric_columns = loan_raw_df._get_numeric_data().columns.tolist()\n",
    "\n",
    "# get the list of categorical columns\n",
    "categorical_columns = list(set(loan_raw_df.columns) - set(numeric_columns))\n",
    "\n",
    "# fill the nulls in numeric columns with the mean\n",
    "for column in numeric_columns:\n",
    "    loan_raw_df[column].fillna(loan_raw_df[column].mean(), inplace=True)\n",
    "    \n",
    "# fill the nulls in the categorical columns with the mode\n",
    "for column in categorical_columns:\n",
    "    loan_raw_df[column].fillna(loan_raw_df[column].mode()[0], inplace=True)"
   ]
  },
  {
   "cell_type": "code",
   "execution_count": 9,
   "id": "43ff1a26",
   "metadata": {},
   "outputs": [
    {
     "data": {
      "text/plain": [
       "Gender               0\n",
       "Married              0\n",
       "Dependents           0\n",
       "Education            0\n",
       "Self_Employed        0\n",
       "ApplicantIncome      0\n",
       "CoapplicantIncome    0\n",
       "LoanAmount           0\n",
       "Loan_Amount_Term     0\n",
       "Credit_History       0\n",
       "Property_Area        0\n",
       "Loan_Status          0\n",
       "Total_Income         0\n",
       "dtype: int64"
      ]
     },
     "execution_count": 9,
     "metadata": {},
     "output_type": "execute_result"
    }
   ],
   "source": [
    "# count the sum of nulls again\n",
    "loan_raw_df.isnull().sum()"
   ]
  },
  {
   "cell_type": "markdown",
   "id": "8848c90a",
   "metadata": {},
   "source": [
    "### Exploratory Data Analysis (EDA)"
   ]
  },
  {
   "cell_type": "code",
   "execution_count": 10,
   "id": "0f6e0b7c",
   "metadata": {},
   "outputs": [
    {
     "data": {
      "text/plain": [
       "(500, 13)"
      ]
     },
     "execution_count": 10,
     "metadata": {},
     "output_type": "execute_result"
    }
   ],
   "source": [
    "# check the shape of the data\n",
    "loan_raw_df.shape"
   ]
  },
  {
   "cell_type": "markdown",
   "id": "ed459bcf",
   "metadata": {},
   "source": [
    "There are 500 observations and 13 columns in the dataset. Of the 13 columns, there are 12 predictor variables and 1 response variable"
   ]
  },
  {
   "cell_type": "code",
   "execution_count": 11,
   "id": "f7a8d51a",
   "metadata": {},
   "outputs": [
    {
     "data": {
      "text/plain": [
       "Text(0.5, 1.0, 'Count for Loan Status')"
      ]
     },
     "execution_count": 11,
     "metadata": {},
     "output_type": "execute_result"
    },
    {
     "data": {
      "image/png": "[encoded data removed]",
      "text/plain": [
       "<Figure size 720x432 with 1 Axes>"
      ]
     },
     "metadata": {
      "needs_background": "light"
     },
     "output_type": "display_data"
    }
   ],
   "source": [
    "# Barplot for the Loan Status\n",
    "plt.figure(figsize=(10,6))\n",
    "sns.countplot(x=loan_raw_df[\"Loan_Status\"], color='brown')\n",
    "plt.title(\"Count for Loan Status\")"
   ]
  },
  {
   "cell_type": "code",
   "execution_count": 12,
   "id": "09f795f7",
   "metadata": {},
   "outputs": [
    {
     "data": {
      "text/plain": [
       "Text(0.5, 1.0, 'Count for Married individuals')"
      ]
     },
     "execution_count": 12,
     "metadata": {},
     "output_type": "execute_result"
    },
    {
     "data": {
      "image/png": "[encoded data removed]",
      "text/plain": [
       "<Figure size 720x432 with 1 Axes>"
      ]
     },
     "metadata": {
      "needs_background": "light"
     },
     "output_type": "display_data"
    }
   ],
   "source": [
    "# Barplot for the married vs not-married\n",
    "plt.figure(figsize=(10,6))\n",
    "sns.countplot(x=loan_raw_df[\"Married\"], color='brown')\n",
    "plt.title(\"Count for Married individuals\")"
   ]
  },
  {
   "cell_type": "code",
   "execution_count": 13,
   "id": "d745961b",
   "metadata": {},
   "outputs": [
    {
     "data": {
      "text/plain": [
       "Text(0.5, 1.0, 'Barplot for the level of Education')"
      ]
     },
     "execution_count": 13,
     "metadata": {},
     "output_type": "execute_result"
    },
    {
     "data": {
      "image/png": "[encoded data removed]",
      "text/plain": [
       "<Figure size 720x432 with 1 Axes>"
      ]
     },
     "metadata": {
      "needs_background": "light"
     },
     "output_type": "display_data"
    }
   ],
   "source": [
    "# Barplot for the level of education\n",
    "plt.figure(figsize=(10,6))\n",
    "sns.countplot(x=loan_raw_df[\"Education\"], color='brown')\n",
    "plt.title(\"Barplot for the level of Education\")"
   ]
  },
  {
   "cell_type": "code",
   "execution_count": 14,
   "id": "a9a7dc19",
   "metadata": {},
   "outputs": [
    {
     "data": {
      "text/plain": [
       "Text(0.5, 1.0, 'Barplot for the Gender')"
      ]
     },
     "execution_count": 14,
     "metadata": {},
     "output_type": "execute_result"
    },
    {
     "data": {
      "image/png": "[encoded data removed]",
      "text/plain": [
       "<Figure size 720x432 with 1 Axes>"
      ]
     },
     "metadata": {
      "needs_background": "light"
     },
     "output_type": "display_data"
    }
   ],
   "source": [
    "# Barplot for gender\n",
    "plt.figure(figsize=(10,6))\n",
    "sns.countplot(x=loan_raw_df[\"Gender\"], color='brown')\n",
    "plt.title(\"Barplot for the Gender\")"
   ]
  },
  {
   "cell_type": "code",
   "execution_count": 15,
   "id": "289e2723",
   "metadata": {
    "scrolled": true
   },
   "outputs": [
    {
     "data": {
      "text/plain": [
       "Text(0.5, 0, 'Total Income')"
      ]
     },
     "execution_count": 15,
     "metadata": {},
     "output_type": "execute_result"
    },
    {
     "data": {
      "image/png": "[encoded data removed]",
      "text/plain": [
       "<Figure size 720x432 with 1 Axes>"
      ]
     },
     "metadata": {
      "needs_background": "light"
     },
     "output_type": "display_data"
    }
   ],
   "source": [
    "# Histogram for Total Income\n",
    "plt.figure(figsize=(10,6))\n",
    "plt.hist(loan_raw_df[\"Total_Income\"], bins=20, color=\"brown\", edgecolor=\"black\")\n",
    "plt.title(\"Histogram of Total Income\")\n",
    "plt.ylabel(\"Frequency\")\n",
    "plt.xlabel(\"Total Income\")"
   ]
  },
  {
   "cell_type": "code",
   "execution_count": 16,
   "id": "69b9a331",
   "metadata": {},
   "outputs": [
    {
     "data": {
      "text/plain": [
       "Text(0.5, 1.0, 'Barplot for the Property Area')"
      ]
     },
     "execution_count": 16,
     "metadata": {},
     "output_type": "execute_result"
    },
    {
     "data": {
      "image/png": "[encoded data removed]",
      "text/plain": [
       "<Figure size 720x432 with 1 Axes>"
      ]
     },
     "metadata": {
      "needs_background": "light"
     },
     "output_type": "display_data"
    }
   ],
   "source": [
    "# Barplot for the level of education\n",
    "plt.figure(figsize=(10,6))\n",
    "sns.countplot(x=loan_raw_df[\"Property_Area\"], color='brown')\n",
    "plt.title(\"Barplot for the Property Area\")"
   ]
  },
  {
   "cell_type": "code",
   "execution_count": 17,
   "id": "41bca8bc",
   "metadata": {},
   "outputs": [
    {
     "data": {
      "text/plain": [
       "<AxesSubplot:>"
      ]
     },
     "execution_count": 17,
     "metadata": {},
     "output_type": "execute_result"
    },
    {
     "data": {
      "image/png": "[encoded data removed]",
      "text/plain": [
       "<Figure size 720x432 with 2 Axes>"
      ]
     },
     "metadata": {
      "needs_background": "light"
     },
     "output_type": "display_data"
    }
   ],
   "source": [
    "# correlation plot\n",
    "plt.figure(figsize=(10,6))\n",
    "sns.heatmap(loan_raw_df.select_dtypes(include=np.number).corr(), annot=True)"
   ]
  },
  {
   "cell_type": "markdown",
   "id": "343c0915",
   "metadata": {},
   "source": [
    "### Modeling"
   ]
  },
  {
   "cell_type": "markdown",
   "id": "8ff1330b",
   "metadata": {},
   "source": [
    "##### Data pre-processing"
   ]
  },
  {
   "cell_type": "code",
   "execution_count": 18,
   "id": "937f6c49",
   "metadata": {},
   "outputs": [
    {
     "data": {
      "text/html": [
       "<div>\n",
       "<style scoped>\n",
       "    .dataframe tbody tr th:only-of-type {\n",
       "        vertical-align: middle;\n",
       "    }\n",
       "\n",
       "    .dataframe tbody tr th {\n",
       "        vertical-align: top;\n",
       "    }\n",
       "\n",
       "    .dataframe thead th {\n",
       "        text-align: right;\n",
       "    }\n",
       "</style>\n",
       "<table border=\"1\" class=\"dataframe\">\n",
       "  <thead>\n",
       "    <tr style=\"text-align: right;\">\n",
       "      <th></th>\n",
       "      <th>Dependents</th>\n",
       "      <th>ApplicantIncome</th>\n",
       "      <th>CoapplicantIncome</th>\n",
       "      <th>LoanAmount</th>\n",
       "      <th>Loan_Amount_Term</th>\n",
       "      <th>Credit_History</th>\n",
       "      <th>Total_Income</th>\n",
       "      <th>Gender_Female</th>\n",
       "      <th>Gender_Male</th>\n",
       "      <th>Married_No</th>\n",
       "      <th>Married_Yes</th>\n",
       "      <th>Education_Graduate</th>\n",
       "      <th>Education_Not Graduate</th>\n",
       "      <th>Self_Employed_No</th>\n",
       "      <th>Self_Employed_Yes</th>\n",
       "      <th>Property_Area_Rural</th>\n",
       "      <th>Property_Area_Semiurban</th>\n",
       "      <th>Property_Area_Urban</th>\n",
       "    </tr>\n",
       "  </thead>\n",
       "  <tbody>\n",
       "    <tr>\n",
       "      <th>0</th>\n",
       "      <td>0.0</td>\n",
       "      <td>5849</td>\n",
       "      <td>0.0</td>\n",
       "      <td>144.020747</td>\n",
       "      <td>360.0</td>\n",
       "      <td>1.0</td>\n",
       "      <td>5849.0</td>\n",
       "      <td>0</td>\n",
       "      <td>1</td>\n",
       "      <td>1</td>\n",
       "      <td>0</td>\n",
       "      <td>1</td>\n",
       "      <td>0</td>\n",
       "      <td>1</td>\n",
       "      <td>0</td>\n",
       "      <td>0</td>\n",
       "      <td>0</td>\n",
       "      <td>1</td>\n",
       "    </tr>\n",
       "    <tr>\n",
       "      <th>1</th>\n",
       "      <td>1.0</td>\n",
       "      <td>4583</td>\n",
       "      <td>1508.0</td>\n",
       "      <td>128.000000</td>\n",
       "      <td>360.0</td>\n",
       "      <td>1.0</td>\n",
       "      <td>6091.0</td>\n",
       "      <td>0</td>\n",
       "      <td>1</td>\n",
       "      <td>0</td>\n",
       "      <td>1</td>\n",
       "      <td>1</td>\n",
       "      <td>0</td>\n",
       "      <td>1</td>\n",
       "      <td>0</td>\n",
       "      <td>1</td>\n",
       "      <td>0</td>\n",
       "      <td>0</td>\n",
       "    </tr>\n",
       "    <tr>\n",
       "      <th>2</th>\n",
       "      <td>0.0</td>\n",
       "      <td>3000</td>\n",
       "      <td>0.0</td>\n",
       "      <td>66.000000</td>\n",
       "      <td>360.0</td>\n",
       "      <td>1.0</td>\n",
       "      <td>3000.0</td>\n",
       "      <td>0</td>\n",
       "      <td>1</td>\n",
       "      <td>0</td>\n",
       "      <td>1</td>\n",
       "      <td>1</td>\n",
       "      <td>0</td>\n",
       "      <td>0</td>\n",
       "      <td>1</td>\n",
       "      <td>0</td>\n",
       "      <td>0</td>\n",
       "      <td>1</td>\n",
       "    </tr>\n",
       "    <tr>\n",
       "      <th>3</th>\n",
       "      <td>0.0</td>\n",
       "      <td>2583</td>\n",
       "      <td>2358.0</td>\n",
       "      <td>120.000000</td>\n",
       "      <td>360.0</td>\n",
       "      <td>1.0</td>\n",
       "      <td>4941.0</td>\n",
       "      <td>0</td>\n",
       "      <td>1</td>\n",
       "      <td>0</td>\n",
       "      <td>1</td>\n",
       "      <td>0</td>\n",
       "      <td>1</td>\n",
       "      <td>1</td>\n",
       "      <td>0</td>\n",
       "      <td>0</td>\n",
       "      <td>0</td>\n",
       "      <td>1</td>\n",
       "    </tr>\n",
       "    <tr>\n",
       "      <th>4</th>\n",
       "      <td>0.0</td>\n",
       "      <td>6000</td>\n",
       "      <td>0.0</td>\n",
       "      <td>141.000000</td>\n",
       "      <td>360.0</td>\n",
       "      <td>1.0</td>\n",
       "      <td>6000.0</td>\n",
       "      <td>0</td>\n",
       "      <td>1</td>\n",
       "      <td>1</td>\n",
       "      <td>0</td>\n",
       "      <td>1</td>\n",
       "      <td>0</td>\n",
       "      <td>1</td>\n",
       "      <td>0</td>\n",
       "      <td>0</td>\n",
       "      <td>0</td>\n",
       "      <td>1</td>\n",
       "    </tr>\n",
       "  </tbody>\n",
       "</table>\n",
       "</div>"
      ],
      "text/plain": [
       "   Dependents  ApplicantIncome  CoapplicantIncome  LoanAmount  \\\n",
       "0         0.0             5849                0.0  144.020747   \n",
       "1         1.0             4583             1508.0  128.000000   \n",
       "2         0.0             3000                0.0   66.000000   \n",
       "3         0.0             2583             2358.0  120.000000   \n",
       "4         0.0             6000                0.0  141.000000   \n",
       "\n",
       "   Loan_Amount_Term  Credit_History  Total_Income  Gender_Female  Gender_Male  \\\n",
       "0             360.0             1.0        5849.0              0            1   \n",
       "1             360.0             1.0        6091.0              0            1   \n",
       "2             360.0             1.0        3000.0              0            1   \n",
       "3             360.0             1.0        4941.0              0            1   \n",
       "4             360.0             1.0        6000.0              0            1   \n",
       "\n",
       "   Married_No  Married_Yes  Education_Graduate  Education_Not Graduate  \\\n",
       "0           1            0                   1                       0   \n",
       "1           0            1                   1                       0   \n",
       "2           0            1                   1                       0   \n",
       "3           0            1                   0                       1   \n",
       "4           1            0                   1                       0   \n",
       "\n",
       "   Self_Employed_No  Self_Employed_Yes  Property_Area_Rural  \\\n",
       "0                 1                  0                    0   \n",
       "1                 1                  0                    1   \n",
       "2                 0                  1                    0   \n",
       "3                 1                  0                    0   \n",
       "4                 1                  0                    0   \n",
       "\n",
       "   Property_Area_Semiurban  Property_Area_Urban  \n",
       "0                        0                    1  \n",
       "1                        0                    0  \n",
       "2                        0                    1  \n",
       "3                        0                    1  \n",
       "4                        0                    1  "
      ]
     },
     "execution_count": 18,
     "metadata": {},
     "output_type": "execute_result"
    }
   ],
   "source": [
    "# convert the Loan_Status column to numeric\n",
    "loan_raw_df[\"Loan_Status\"] = loan_raw_df[\"Loan_Status\"].map({\"N\": 0, \"Y\": 1}).astype(int)\n",
    "\n",
    "# Separate the features from the response variable and get dummies for each categorical variable in the features\n",
    "y = loan_raw_df[\"Loan_Status\"]\n",
    "X = loan_raw_df.drop(\"Loan_Status\", axis=1)\n",
    "X = pd.get_dummies(X)\n",
    "\n",
    "X.head(5)"
   ]
  },
  {
   "cell_type": "code",
   "execution_count": 19,
   "id": "73820751",
   "metadata": {},
   "outputs": [],
   "source": [
    "# Split the data into training and test datasets\n",
    "X_train, X_test, y_train, y_test = train_test_split(X, y, test_size=0.25, random_state=94)"
   ]
  },
  {
   "cell_type": "markdown",
   "id": "7ab39932",
   "metadata": {},
   "source": [
    "#### Train and fit the model"
   ]
  },
  {
   "cell_type": "code",
   "execution_count": 20,
   "id": "9a614ce3",
   "metadata": {},
   "outputs": [],
   "source": [
    "def model_and_evaluate(model):\n",
    "    if model in [\"decision tree classifier\", \"DecisionTreeClassifier\", \"DT\", \"DecisionTree\"]:\n",
    "        model = DecisionTreeClassifier()\n",
    "        choice = \"DecisionTree Classifier\"\n",
    "    elif model in [\"random forest\", \"RandomForestClassifier\", \"RF\", \"rf\", \"RandomForest\", \"Random Forest Classifier\"]:\n",
    "        model = RandomForestClassifier()\n",
    "        choice = \"RandomForest Classifier\"\n",
    "    elif model in [\"svc\", \"support vector machines\", \"Support Vector Classifier\", \"SVC\"]:\n",
    "        model = SVC(C=1.0, random_state = 94, kernel = 'linear')\n",
    "        choice = \"Support Vector Classifier\"\n",
    "    else:\n",
    "        print(\"\"\"The model type is not supported in this function.\n",
    "                  Enter: DecisionTreeClassifier OR RandomForestClassifier OR SVC\"\"\")\n",
    "    model.fit(X_train, y_train)\n",
    "    y_predict = model.predict(X_test)\n",
    "    # evaluate results\n",
    "    print(choice)\n",
    "    print()\n",
    "    accuracy = (accuracy_score(y_test, y_predict) * 100).round(2)\n",
    "    precision = (precision_score(y_test, y_predict) * 100).round(2)\n",
    "    recall = (recall_score(y_test, y_predict) * 100).round(2)\n",
    "    f1 = (f1_score(y_test, y_predict) * 100).round(2)\n",
    "    auc = (roc_auc_score(y_test, y_predict) * 100).round(2)\n",
    "    print(f\"Accuracy: {accuracy} %\")\n",
    "    print(f\"Precision: {precision} %\")\n",
    "    print(f\"Recall: {recall} %\")\n",
    "    print(f\"F1 Score: {f1} %\")\n",
    "    print(f\"AUC: {auc} %\")\n",
    "    print()\n",
    "    # display the confusion matrix\n",
    "    print(\"Confusion Matrix\")\n",
    "    report= confusion_matrix(y_test, y_predict)\n",
    "    print(report)\n",
    "    \n",
    "    return accuracy, precision, recall, f1, auc"
   ]
  },
  {
   "cell_type": "code",
   "execution_count": 21,
   "id": "8c1122ad",
   "metadata": {},
   "outputs": [
    {
     "name": "stdout",
     "output_type": "stream",
     "text": [
      "DecisionTree Classifier\n",
      "\n",
      "Accuracy: 62.4 %\n",
      "Precision: 70.89 %\n",
      "Recall: 70.0 %\n",
      "F1 Score: 70.44 %\n",
      "AUC: 59.44 %\n",
      "\n",
      "Confusion Matrix\n",
      "[[22 23]\n",
      " [24 56]]\n"
     ]
    }
   ],
   "source": [
    "# Decision Tree\n",
    "dt = model_and_evaluate(\"DecisionTreeClassifier\")"
   ]
  },
  {
   "cell_type": "code",
   "execution_count": 22,
   "id": "d2679e2c",
   "metadata": {},
   "outputs": [
    {
     "name": "stdout",
     "output_type": "stream",
     "text": [
      "Support Vector Classifier\n",
      "\n",
      "Accuracy: 67.2 %\n",
      "Precision: 66.39 %\n",
      "Recall: 98.75 %\n",
      "F1 Score: 79.4 %\n",
      "AUC: 54.93 %\n",
      "\n",
      "Confusion Matrix\n",
      "[[ 5 40]\n",
      " [ 1 79]]\n"
     ]
    }
   ],
   "source": [
    "svc = model_and_evaluate(\"SVC\")"
   ]
  },
  {
   "cell_type": "markdown",
   "id": "2a227dc8",
   "metadata": {},
   "source": [
    "It is often better to standardize the data before running an SVC model since SVC is a distance based model."
   ]
  },
  {
   "cell_type": "code",
   "execution_count": 23,
   "id": "ede5c6c3",
   "metadata": {},
   "outputs": [],
   "source": [
    "sc = StandardScaler()\n",
    "sc.fit(X_train)\n",
    "X_train = sc.transform(X_train)\n",
    "X_test = sc.transform(X_test)"
   ]
  },
  {
   "cell_type": "code",
   "execution_count": 24,
   "id": "356c02ea",
   "metadata": {
    "scrolled": true
   },
   "outputs": [
    {
     "name": "stdout",
     "output_type": "stream",
     "text": [
      "Support Vector Classifier\n",
      "\n",
      "Accuracy: 76.0 %\n",
      "Precision: 74.04 %\n",
      "Recall: 96.25 %\n",
      "F1 Score: 83.7 %\n",
      "AUC: 68.12 %\n",
      "\n",
      "Confusion Matrix\n",
      "[[18 27]\n",
      " [ 3 77]]\n"
     ]
    }
   ],
   "source": [
    "svc_standardized = model_and_evaluate(\"SVC\")"
   ]
  },
  {
   "cell_type": "code",
   "execution_count": 25,
   "id": "3029bed3",
   "metadata": {},
   "outputs": [
    {
     "name": "stdout",
     "output_type": "stream",
     "text": [
      "DecisionTree Classifier\n",
      "\n",
      "Accuracy: 67.2 %\n",
      "Precision: 75.32 %\n",
      "Recall: 72.5 %\n",
      "F1 Score: 73.89 %\n",
      "AUC: 65.14 %\n",
      "\n",
      "Confusion Matrix\n",
      "[[26 19]\n",
      " [22 58]]\n"
     ]
    }
   ],
   "source": [
    "rf_standardized = model_and_evaluate(\"DT\")"
   ]
  },
  {
   "cell_type": "code",
   "execution_count": 26,
   "id": "afecc1c5",
   "metadata": {},
   "outputs": [
    {
     "name": "stdout",
     "output_type": "stream",
     "text": [
      "From the results of the model, we can see that the accuracy of the support vector classifier \n",
      "76.0, is much greater than the accuracy of the decision tree classifier 62.4, \n",
      "also the precision of svc_standardized 74.04 is also greater than that of the decision tree 70.89. \n",
      "Furthermore, the AUC of the support vector classifier 68.12 is much better than the AUC of the \n",
      "decision tree classifier 59.44\n"
     ]
    }
   ],
   "source": [
    "print(f\"\"\"From the results of the model, we can see that the accuracy of the support vector classifier \n",
    "{svc_standardized[0]}, is much greater than the accuracy of the decision tree classifier {dt[0]}, \n",
    "also the precision of svc_standardized {svc_standardized[1]} is also greater than that of the decision tree {dt[1]}. \n",
    "Furthermore, the AUC of the support vector classifier {svc_standardized[4]} is much better than the AUC of the \n",
    "decision tree classifier {dt[4]}\"\"\")"
   ]
  },
  {
   "cell_type": "markdown",
   "id": "be9dfba8",
   "metadata": {},
   "source": [
    "Support Vector Machines perform better when standardized whereas the decision tree's performance was about the same even after standardization."
   ]
  }
 ],
 "metadata": {
  "kernelspec": {
   "display_name": "Python 3",
   "language": "python",
   "name": "python3"
  },
  "language_info": {
   "codemirror_mode": {
    "name": "ipython",
    "version": 3
   },
   "file_extension": ".py",
   "mimetype": "text/x-python",
   "name": "python",
   "nbconvert_exporter": "python",
   "pygments_lexer": "ipython3",
   "version": "3.8.8"
  }
 },
 "nbformat": 4,
 "nbformat_minor": 5
}
